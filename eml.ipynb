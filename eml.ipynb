{
 "cells": [
  {
   "cell_type": "code",
   "execution_count": 1,
   "metadata": {},
   "outputs": [],
   "source": [
    "import pandas as pd"
   ]
  },
  {
   "attachments": {},
   "cell_type": "markdown",
   "metadata": {},
   "source": [
    "Read the data into a pandas dataframe with usecols and skiprows parameters are used to get rid of unuseful columns."
   ]
  },
  {
   "cell_type": "code",
   "execution_count": 2,
   "metadata": {},
   "outputs": [],
   "source": [
    "df = pd.read_excel(\"datas/MSH_Price_Guide_Median_Prices-2015.xls\",header=1,usecols=\"A,B,C,E,G,J,L,N,P,Q,R,U\",skiprows=[0,1,2,1168,1169,1170])"
   ]
  },
  {
   "cell_type": "code",
   "execution_count": 3,
   "metadata": {},
   "outputs": [
    {
     "data": {
      "text/plain": [
       "Description               object\n",
       "Supplementary Info        object\n",
       "Strength                  object\n",
       "Dosage Form               object\n",
       "Route of Admin            object\n",
       "WHO Status                object\n",
       "DDD                      float64\n",
       "DDD Unit                  object\n",
       "ATC Code                  object\n",
       "Buyer Median (US$)       float64\n",
       "Supplier Median (US$)    float64\n",
       "Comparison Unit           object\n",
       "dtype: object"
      ]
     },
     "execution_count": 3,
     "metadata": {},
     "output_type": "execute_result"
    }
   ],
   "source": [
    "df.dtypes"
   ]
  },
  {
   "attachments": {},
   "cell_type": "markdown",
   "metadata": {},
   "source": [
    "Rename the columns to fix sql database problems."
   ]
  },
  {
   "cell_type": "code",
   "execution_count": 4,
   "metadata": {},
   "outputs": [],
   "source": [
    "df = df.rename(columns={\n",
    "    'DDD Unit':'DDD_Unit',\n",
    "    'Supplementary Info':'Supplementary_Info',\n",
    "    'Dosage Form':'Dosage_Form',\n",
    "    'Route of Admin':'Route_of_Admin',\n",
    "    'WHO Status':'WHO_Status',\n",
    "    'DDD Unit':'DDD_Unit',\n",
    "    'ATC Code':'ATC_Code',\n",
    "    'Buyer Median (US$)':'Buyer_Median_(US$)',\n",
    "    'Supplier Median (US$)':'Supplier_Median_(US$)',\n",
    "    'Comparison Unit':'Comparison_Unit'\n",
    "})"
   ]
  },
  {
   "attachments": {},
   "cell_type": "markdown",
   "metadata": {},
   "source": [
    "Check the head and tail."
   ]
  },
  {
   "cell_type": "code",
   "execution_count": 5,
   "metadata": {},
   "outputs": [
    {
     "data": {
      "text/html": [
       "<div>\n",
       "<style scoped>\n",
       "    .dataframe tbody tr th:only-of-type {\n",
       "        vertical-align: middle;\n",
       "    }\n",
       "\n",
       "    .dataframe tbody tr th {\n",
       "        vertical-align: top;\n",
       "    }\n",
       "\n",
       "    .dataframe thead th {\n",
       "        text-align: right;\n",
       "    }\n",
       "</style>\n",
       "<table border=\"1\" class=\"dataframe\">\n",
       "  <thead>\n",
       "    <tr style=\"text-align: right;\">\n",
       "      <th></th>\n",
       "      <th>Description</th>\n",
       "      <th>Supplementary_Info</th>\n",
       "      <th>Strength</th>\n",
       "      <th>Dosage_Form</th>\n",
       "      <th>Route_of_Admin</th>\n",
       "      <th>WHO_Status</th>\n",
       "      <th>DDD</th>\n",
       "      <th>DDD_Unit</th>\n",
       "      <th>ATC_Code</th>\n",
       "      <th>Buyer_Median_(US$)</th>\n",
       "      <th>Supplier_Median_(US$)</th>\n",
       "      <th>Comparison_Unit</th>\n",
       "    </tr>\n",
       "  </thead>\n",
       "  <tbody>\n",
       "    <tr>\n",
       "      <th>0</th>\n",
       "      <td>Abacavir</td>\n",
       "      <td>ABC</td>\n",
       "      <td>20 mg/ml</td>\n",
       "      <td>SOLUTION</td>\n",
       "      <td>PO</td>\n",
       "      <td>E</td>\n",
       "      <td>0.6</td>\n",
       "      <td>g</td>\n",
       "      <td>J05AF06</td>\n",
       "      <td>0.0252</td>\n",
       "      <td>0.0369</td>\n",
       "      <td>ML</td>\n",
       "    </tr>\n",
       "    <tr>\n",
       "      <th>1</th>\n",
       "      <td>Abacavir</td>\n",
       "      <td>ABC</td>\n",
       "      <td>300 mg</td>\n",
       "      <td>TAB-CAP</td>\n",
       "      <td>PO</td>\n",
       "      <td>E</td>\n",
       "      <td>0.6</td>\n",
       "      <td>g</td>\n",
       "      <td>J05AF06</td>\n",
       "      <td>0.2900</td>\n",
       "      <td>0.2030</td>\n",
       "      <td>TAB-CAP</td>\n",
       "    </tr>\n",
       "    <tr>\n",
       "      <th>2</th>\n",
       "      <td>Abacavir Sulfate</td>\n",
       "      <td>NaN</td>\n",
       "      <td>60 mg</td>\n",
       "      <td>TAB-CAP</td>\n",
       "      <td>PO</td>\n",
       "      <td>P</td>\n",
       "      <td>0.6</td>\n",
       "      <td>g</td>\n",
       "      <td>J05AF06</td>\n",
       "      <td>0.0874</td>\n",
       "      <td>NaN</td>\n",
       "      <td>TAB-CAP</td>\n",
       "    </tr>\n",
       "    <tr>\n",
       "      <th>3</th>\n",
       "      <td>Abacavir/Lamivudine</td>\n",
       "      <td>ABC/3TC</td>\n",
       "      <td>600 mg/300mg</td>\n",
       "      <td>TAB-CAP</td>\n",
       "      <td>PO</td>\n",
       "      <td>P</td>\n",
       "      <td>1.0</td>\n",
       "      <td>tab</td>\n",
       "      <td>J05AR02</td>\n",
       "      <td>0.4842</td>\n",
       "      <td>0.4732</td>\n",
       "      <td>TAB-CAP</td>\n",
       "    </tr>\n",
       "    <tr>\n",
       "      <th>4</th>\n",
       "      <td>Abacavir/Lamivudine</td>\n",
       "      <td>dispersible</td>\n",
       "      <td>60mg/30mg</td>\n",
       "      <td>TAB-CAP</td>\n",
       "      <td>PO</td>\n",
       "      <td>E</td>\n",
       "      <td>NaN</td>\n",
       "      <td>NaN</td>\n",
       "      <td>J05AR02</td>\n",
       "      <td>NaN</td>\n",
       "      <td>0.0711</td>\n",
       "      <td>TAB-CAP</td>\n",
       "    </tr>\n",
       "  </tbody>\n",
       "</table>\n",
       "</div>"
      ],
      "text/plain": [
       "           Description Supplementary_Info      Strength Dosage_Form  \\\n",
       "0             Abacavir                ABC      20 mg/ml    SOLUTION   \n",
       "1             Abacavir                ABC        300 mg     TAB-CAP   \n",
       "2     Abacavir Sulfate                NaN         60 mg     TAB-CAP   \n",
       "3  Abacavir/Lamivudine            ABC/3TC  600 mg/300mg     TAB-CAP   \n",
       "4  Abacavir/Lamivudine        dispersible     60mg/30mg     TAB-CAP   \n",
       "\n",
       "  Route_of_Admin WHO_Status  DDD DDD_Unit ATC_Code  Buyer_Median_(US$)  \\\n",
       "0             PO          E  0.6        g  J05AF06              0.0252   \n",
       "1             PO          E  0.6        g  J05AF06              0.2900   \n",
       "2             PO          P  0.6        g  J05AF06              0.0874   \n",
       "3             PO          P  1.0      tab  J05AR02              0.4842   \n",
       "4             PO          E  NaN      NaN  J05AR02                 NaN   \n",
       "\n",
       "   Supplier_Median_(US$) Comparison_Unit  \n",
       "0                 0.0369              ML  \n",
       "1                 0.2030         TAB-CAP  \n",
       "2                    NaN         TAB-CAP  \n",
       "3                 0.4732         TAB-CAP  \n",
       "4                 0.0711         TAB-CAP  "
      ]
     },
     "execution_count": 5,
     "metadata": {},
     "output_type": "execute_result"
    }
   ],
   "source": [
    "df.head()"
   ]
  },
  {
   "cell_type": "code",
   "execution_count": 6,
   "metadata": {},
   "outputs": [
    {
     "data": {
      "text/html": [
       "<div>\n",
       "<style scoped>\n",
       "    .dataframe tbody tr th:only-of-type {\n",
       "        vertical-align: middle;\n",
       "    }\n",
       "\n",
       "    .dataframe tbody tr th {\n",
       "        vertical-align: top;\n",
       "    }\n",
       "\n",
       "    .dataframe thead th {\n",
       "        text-align: right;\n",
       "    }\n",
       "</style>\n",
       "<table border=\"1\" class=\"dataframe\">\n",
       "  <thead>\n",
       "    <tr style=\"text-align: right;\">\n",
       "      <th></th>\n",
       "      <th>Description</th>\n",
       "      <th>Supplementary_Info</th>\n",
       "      <th>Strength</th>\n",
       "      <th>Dosage_Form</th>\n",
       "      <th>Route_of_Admin</th>\n",
       "      <th>WHO_Status</th>\n",
       "      <th>DDD</th>\n",
       "      <th>DDD_Unit</th>\n",
       "      <th>ATC_Code</th>\n",
       "      <th>Buyer_Median_(US$)</th>\n",
       "      <th>Supplier_Median_(US$)</th>\n",
       "      <th>Comparison_Unit</th>\n",
       "    </tr>\n",
       "  </thead>\n",
       "  <tbody>\n",
       "    <tr>\n",
       "      <th>1158</th>\n",
       "      <td>Zinc Sulfate</td>\n",
       "      <td>dispersible</td>\n",
       "      <td>20 mg</td>\n",
       "      <td>TAB-CAP</td>\n",
       "      <td>PO</td>\n",
       "      <td>P</td>\n",
       "      <td>0.6</td>\n",
       "      <td>g</td>\n",
       "      <td>A12CB01</td>\n",
       "      <td>0.0094</td>\n",
       "      <td>0.0184</td>\n",
       "      <td>TAB-CAP</td>\n",
       "    </tr>\n",
       "    <tr>\n",
       "      <th>1159</th>\n",
       "      <td>Zinc Sulfate</td>\n",
       "      <td>NaN</td>\n",
       "      <td>20 mg</td>\n",
       "      <td>TAB-CAP</td>\n",
       "      <td>PO</td>\n",
       "      <td>E</td>\n",
       "      <td>NaN</td>\n",
       "      <td>NaN</td>\n",
       "      <td>A12CB01</td>\n",
       "      <td>0.0392</td>\n",
       "      <td>0.0141</td>\n",
       "      <td>TAB-CAP</td>\n",
       "    </tr>\n",
       "    <tr>\n",
       "      <th>1160</th>\n",
       "      <td>Zinc Sulfate</td>\n",
       "      <td>NaN</td>\n",
       "      <td>20 mg/5 ml</td>\n",
       "      <td>SYRUP</td>\n",
       "      <td>PO</td>\n",
       "      <td>EP</td>\n",
       "      <td>0.6</td>\n",
       "      <td>g</td>\n",
       "      <td>A12CB01</td>\n",
       "      <td>0.0028</td>\n",
       "      <td>NaN</td>\n",
       "      <td>ML</td>\n",
       "    </tr>\n",
       "    <tr>\n",
       "      <th>1161</th>\n",
       "      <td>Zoledronic Acid</td>\n",
       "      <td>NaN</td>\n",
       "      <td>4 mg/5 ml</td>\n",
       "      <td>VIAL</td>\n",
       "      <td>INJ</td>\n",
       "      <td>N</td>\n",
       "      <td>NaN</td>\n",
       "      <td>NaN</td>\n",
       "      <td>M05BA08</td>\n",
       "      <td>23.4501</td>\n",
       "      <td>NaN</td>\n",
       "      <td>VIAL</td>\n",
       "    </tr>\n",
       "    <tr>\n",
       "      <th>1162</th>\n",
       "      <td>Zuclopenthixol</td>\n",
       "      <td>NaN</td>\n",
       "      <td>10 mg</td>\n",
       "      <td>TAB-CAP</td>\n",
       "      <td>PO</td>\n",
       "      <td>T</td>\n",
       "      <td>30.0</td>\n",
       "      <td>mg</td>\n",
       "      <td>N05AF05</td>\n",
       "      <td>0.1350</td>\n",
       "      <td>NaN</td>\n",
       "      <td>TAB-CAP</td>\n",
       "    </tr>\n",
       "  </tbody>\n",
       "</table>\n",
       "</div>"
      ],
      "text/plain": [
       "          Description Supplementary_Info    Strength Dosage_Form  \\\n",
       "1158     Zinc Sulfate        dispersible       20 mg     TAB-CAP   \n",
       "1159     Zinc Sulfate                NaN       20 mg     TAB-CAP   \n",
       "1160     Zinc Sulfate                NaN  20 mg/5 ml       SYRUP   \n",
       "1161  Zoledronic Acid                NaN   4 mg/5 ml        VIAL   \n",
       "1162   Zuclopenthixol                NaN       10 mg     TAB-CAP   \n",
       "\n",
       "     Route_of_Admin WHO_Status   DDD DDD_Unit ATC_Code  Buyer_Median_(US$)  \\\n",
       "1158             PO          P   0.6        g  A12CB01              0.0094   \n",
       "1159             PO          E   NaN      NaN  A12CB01              0.0392   \n",
       "1160             PO         EP   0.6        g  A12CB01              0.0028   \n",
       "1161            INJ          N   NaN      NaN  M05BA08             23.4501   \n",
       "1162             PO          T  30.0       mg  N05AF05              0.1350   \n",
       "\n",
       "      Supplier_Median_(US$) Comparison_Unit  \n",
       "1158                 0.0184         TAB-CAP  \n",
       "1159                 0.0141         TAB-CAP  \n",
       "1160                    NaN              ML  \n",
       "1161                    NaN            VIAL  \n",
       "1162                    NaN         TAB-CAP  "
      ]
     },
     "execution_count": 6,
     "metadata": {},
     "output_type": "execute_result"
    }
   ],
   "source": [
    "df.tail()"
   ]
  },
  {
   "attachments": {},
   "cell_type": "markdown",
   "metadata": {},
   "source": [
    "Check the number of rows and columns of our dataframe."
   ]
  },
  {
   "cell_type": "code",
   "execution_count": 7,
   "metadata": {},
   "outputs": [
    {
     "data": {
      "text/plain": [
       "(1163, 12)"
      ]
     },
     "execution_count": 7,
     "metadata": {},
     "output_type": "execute_result"
    }
   ],
   "source": [
    "df.shape"
   ]
  },
  {
   "attachments": {},
   "cell_type": "markdown",
   "metadata": {},
   "source": [
    "Transform the dataframe into a html table."
   ]
  },
  {
   "cell_type": "code",
   "execution_count": 8,
   "metadata": {},
   "outputs": [],
   "source": [
    "df.to_html('msh_prices.html')"
   ]
  },
  {
   "attachments": {},
   "cell_type": "markdown",
   "metadata": {},
   "source": [
    "Import sqlite3 to create our local database."
   ]
  },
  {
   "cell_type": "code",
   "execution_count": 9,
   "metadata": {},
   "outputs": [],
   "source": [
    "import sqlite3"
   ]
  },
  {
   "cell_type": "code",
   "execution_count": 10,
   "metadata": {},
   "outputs": [],
   "source": [
    "conn = sqlite3.connect('msh_prices.db')\n",
    "c = conn.cursor()"
   ]
  },
  {
   "cell_type": "code",
   "execution_count": 11,
   "metadata": {},
   "outputs": [],
   "source": [
    "c.execute('''\n",
    "CREATE TABLE IF NOT EXISTS prices (Description,Supplementary_Info,\n",
    "Strength,Dosage Form,Route of Admin,WHO Status,DDD,DDD_Unit,ATC_Code,\n",
    "Buyer_Median_'('US$')',Supplier_Median_'('US$')',Comparison_Unit)\n",
    "''')\n",
    "conn.commit()"
   ]
  },
  {
   "attachments": {},
   "cell_type": "markdown",
   "metadata": {},
   "source": [
    "Load datas into sql database"
   ]
  },
  {
   "cell_type": "code",
   "execution_count": 12,
   "metadata": {},
   "outputs": [
    {
     "data": {
      "text/plain": [
       "1163"
      ]
     },
     "execution_count": 12,
     "metadata": {},
     "output_type": "execute_result"
    }
   ],
   "source": [
    "df.to_sql('prices', conn, if_exists='replace', index=False)"
   ]
  },
  {
   "attachments": {},
   "cell_type": "markdown",
   "metadata": {},
   "source": [
    "Check the content of our database."
   ]
  },
  {
   "cell_type": "code",
   "execution_count": null,
   "metadata": {},
   "outputs": [],
   "source": [
    "c.execute('''\n",
    "SELECT * FROM prices\n",
    "''')\n",
    "for row in c.fetchall():\n",
    "    print(row)"
   ]
  },
  {
   "cell_type": "code",
   "execution_count": null,
   "metadata": {},
   "outputs": [],
   "source": [
    "c.execute('''\n",
    "SELECT * FROM Prices WHERE Description = 'Albendazole'\n",
    "''')\n",
    "for row in c.fetchall():\n",
    "    print(row)"
   ]
  }
 ],
 "metadata": {
  "kernelspec": {
   "display_name": "Python 3.10.6 ('env': venv)",
   "language": "python",
   "name": "python3"
  },
  "language_info": {
   "codemirror_mode": {
    "name": "ipython",
    "version": 3
   },
   "file_extension": ".py",
   "mimetype": "text/x-python",
   "name": "python",
   "nbconvert_exporter": "python",
   "pygments_lexer": "ipython3",
   "version": "3.10.6"
  },
  "orig_nbformat": 4,
  "vscode": {
   "interpreter": {
    "hash": "8be6e8d4aac268c4cd2882df1641db41d6db1c8807e3829c1ecd8e81e5b147bb"
   }
  }
 },
 "nbformat": 4,
 "nbformat_minor": 2
}
